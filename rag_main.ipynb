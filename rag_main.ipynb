{
 "cells": [
  {
   "cell_type": "markdown",
   "id": "988994d6",
   "metadata": {},
   "source": [
    "### 簡要說明\n",
    "\n",
    "這段 Python 程式碼是 **RAG（Retrieval-Augmented Generation）資料庫**的前置作業，主要用於**文件分塊（Document Chunking）**。\n",
    "\n",
    "1.  **`split_into_chunks` 函式：** 這個函式負責讀取指定的檔案（`reflexion_zh.md`）。\n",
    "2.  **`content.split(\"\\n\\n\")`：** 這是核心操作，它會根據連續的兩個換行符號（`\\n\\n`）來將文件內容分割開來。在 Markdown 格式中，這通常代表一個新的段落或區塊。\n",
    "3.  **迴圈與列印：** 程式碼的最後部分則遍歷這些分割後的區塊，並加上編號後列印出來。\n",
    "\n",
    "最終，這些**被分割好的文字區塊**（chunks）將會被進一步處理，例如**嵌入（embedding）**，然後儲存到向量資料庫（Vector Database）中，作為 RAG 系統用來**檢索（retrieval）**的來源資料。"
   ]
  },
  {
   "cell_type": "code",
   "execution_count": null,
   "id": "0b76f4cd-e904-4d8c-bd65-fe1ef299467e",
   "metadata": {},
   "outputs": [],
   "source": [
    "from typing import List\n",
    "\n",
    "def split_into_chunks(doc_file: str) -> List[str]:\n",
    "    with open(doc_file, 'r') as file:\n",
    "        content = file.read()\n",
    "    return [chunk for chunk in content.split(\"\\n\\n\")]\n",
    "\n",
    "chunks = split_into_chunks(\"reflexion_zh.md\")\n",
    "\n",
    "for i, chunk in enumerate(chunks):\n",
    "    print(f\"[{i}] {chunk}\\n\")\n"
   ]
  }
 ],
 "metadata": {
  "kernelspec": {
   "display_name": "Python 3 (ipykernel)",
   "language": "python",
   "name": "python3"
  },
  "language_info": {
   "codemirror_mode": {
    "name": "ipython",
    "version": 3
   },
   "file_extension": ".py",
   "mimetype": "text/x-python",
   "name": "python",
   "nbconvert_exporter": "python",
   "pygments_lexer": "ipython3",
   "version": "3.12.9"
  }
 },
 "nbformat": 4,
 "nbformat_minor": 5
}
